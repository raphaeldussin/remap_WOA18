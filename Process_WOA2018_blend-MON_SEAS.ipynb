{
 "cells": [
  {
   "cell_type": "markdown",
   "metadata": {},
   "source": [
    "# WOA 2018 T/S: preprocessing for MOM6 ocean model initial conditions and bias analysis\n",
    "\n",
    "## Blends monthly with seasonal to get full depth data\n",
    "## Uses gsw "
   ]
  },
  {
   "cell_type": "code",
   "execution_count": null,
   "metadata": {},
   "outputs": [],
   "source": [
    "import xarray as xr\n",
    "from vcr import utils, conserve\n",
    "import matplotlib.pyplot as plt\n",
    "import numpy as np\n",
    "import gsw\n",
    "import time\n",
    "import pydap\n",
    "\n",
    "%matplotlib inline"
   ]
  },
  {
   "cell_type": "markdown",
   "metadata": {},
   "source": [
    "**URLs for the WOA18 dataset:**"
   ]
  },
  {
   "cell_type": "code",
   "execution_count": null,
   "metadata": {},
   "outputs": [],
   "source": [
    "url_temp_1deg = 'https://www.ncei.noaa.gov/thredds-ocean/dodsC/ncei/woa/temperature/decav/1.00/'\n",
    "url_salt_1deg = 'https://www.ncei.noaa.gov/thredds-ocean/dodsC/ncei/woa/salinity/decav/1.00/'\n",
    "\n",
    "url_temp_025deg = 'https://www.ncei.noaa.gov/thredds-ocean/dodsC/ncei/woa/temperature/decav/0.25/'\n",
    "url_salt_025deg = 'https://www.ncei.noaa.gov/thredds-ocean/dodsC/ncei/woa/salinity/decav/0.25/'"
   ]
  },
  {
   "cell_type": "markdown",
   "metadata": {},
   "source": [
    "## Functions"
   ]
  },
  {
   "cell_type": "code",
   "execution_count": null,
   "metadata": {},
   "outputs": [],
   "source": [
    "def roll_lon_to_0360(da, axis=0, res=1):\n",
    "    data = da.values\n",
    "    data = np.roll(data, -180 * res, axis=axis)\n",
    "    data = np.mod(data+360, 360)\n",
    "    if len(data.shape) == 2:\n",
    "        data[-1,-1] += 360.\n",
    "    out = xr.DataArray(data=data, dims=da.dims, attrs=da.attrs)\n",
    "    return out\n",
    "\n",
    "def roll_to_0360(da, axis=-1, res=1):\n",
    "    data = da.values\n",
    "    data = np.roll(data, -180 * res, axis=axis)\n",
    "    out = xr.DataArray(data=data, dims=da.dims, attrs=da.attrs)\n",
    "    return out"
   ]
  },
  {
   "cell_type": "code",
   "execution_count": null,
   "metadata": {},
   "outputs": [],
   "source": [
    "def build_woa_TPOT_S_dataset(period=0,\n",
    "                             resolution=1,\n",
    "                             url_temp=url_temp_1deg,\n",
    "                             url_salt=url_salt_1deg):\n",
    "    \"\"\" read in the WOA data from opendap, compute potential temperature\n",
    "    and roll to 0-360 degrees East\"\"\"\n",
    "    cperiod = str(period).zfill(2)\n",
    "    cres = str(resolution).zfill(2)\n",
    "    # load the original data\n",
    "    kwargs = dict(decode_times=False, engine='pydap')\n",
    "    woa18_t = xr.open_dataset(f'{url_temp}/woa18_decav_t{cperiod}_{cres}.nc', **kwargs)\n",
    "    woa18_s = xr.open_dataset(f'{url_salt}/woa18_decav_s{cperiod}_{cres}.nc', **kwargs)\n",
    "    \n",
    "    # Compute potential temperature in following three steps:\n",
    "    # 1. Pressure from depth and lat. Note `depth` convention: positive UP. \n",
    "    p = xr.apply_ufunc(gsw.p_from_z, -woa18_t.depth, woa18_t.lat, dask='parallelized',\n",
    "                       output_dtypes=[woa18_t.t_an.dtype])\n",
    "    # 2. SA from practical salinity; assume WOA s_an is SP! Can this be done better?\n",
    "    # This approach is better than following because I'm using SA (absolute salinity), instead of SR (ref salinity).\n",
    "    # https://github.com/NCAR/WOA_MOM6/blob/a7131c2d9b89bb032e006d27db97679f6cd1f42c/create_filled_ic.py#L171-L172\n",
    "    sa = xr.apply_ufunc(gsw.SA_from_SP, woa18_s.s_an, p, woa18_s.lon, woa18_s.lat, dask='parallelized',\n",
    "                    output_dtypes=[woa18_t.t_an.dtype])\n",
    "    # 3. Potential temperature from SA (instead of woa18_s.s_an), in-situ temperature and pressure (db)\n",
    "    ptemp = xr.apply_ufunc(gsw.pt0_from_t, sa, woa18_t.t_an, p, dask='parallelized',\n",
    "                           output_dtypes=[woa18_t.t_an.dtype]) # gsw.pt0_from_t: ASSUME 0 db ref pressure\n",
    "    \n",
    "    # roll the data and write into new dataset\n",
    "    woa18_ts = xr.Dataset()\n",
    "    woa18_ts['lon'] = roll_lon_to_0360(woa18_t['lon'], res=resolution)\n",
    "    woa18_ts['lon_bnds'] = roll_lon_to_0360(woa18_t['lon_bnds'], res=resolution)\n",
    "    woa18_ts['ptemp'] = roll_to_0360(ptemp, res=resolution).fillna(1.0e+20)\n",
    "    woa18_ts['salt'] = roll_to_0360(woa18_s['s_an'], res=resolution).fillna(1.0e+20)\n",
    "    for var in ['time', 'lat_bnds', 'depth_bnds', 'nbounds']:\n",
    "        woa18_ts[var] = woa18_t[var]\n",
    "    woa18_ts.set_coords(['time', 'lon', 'lat', 'depth', 'nbounds'])\n",
    "    woa18_ts.attrs = woa18_t.attrs\n",
    "    return woa18_ts"
   ]
  },
  {
   "cell_type": "code",
   "execution_count": null,
   "metadata": {},
   "outputs": [],
   "source": [
    "def vertical_blend_seas(ds_seasonal, ds_monthly):\n",
    "    \"\"\" add the deep ocean from seasonal to monthly\"\"\"\n",
    "\n",
    "    ds_seasonal[\"time\"] = ds_monthly[\"time\"]\n",
    "    ds_blend = xr.Dataset()\n",
    "    ds_blend = xr.concat([ds_monthly, ds_seasonal.isel(depth=slice(57,102))], dim='depth')\n",
    "    # fix lon/lat bounds\n",
    "    for var in [\"lon_bnds\", \"lat_bnds\"]:\n",
    "        ds_blend[var] = ds_seasonal[var]\n",
    "    return ds_blend"
   ]
  },
  {
   "cell_type": "code",
   "execution_count": null,
   "metadata": {},
   "outputs": [],
   "source": [
    "def vertical_remap(ds, depth_tgt, depth_bnds_tgt, spval=1.0e+20):\n",
    "    \"\"\" remap ptemp and salt on the new vertical grid \"\"\"\n",
    "    # re-arange depth bounds for WOA18\n",
    "    depth_bnds_src = utils.bounds_2d_to_1d(ds['depth_bnds'])\n",
    "    \n",
    "    # create remapping weights\n",
    "    remapping = conserve.create_remapping_matrix(depth_bnds_src, depth_bnds_tgt, strict=False)\n",
    "    \n",
    "    # Remap the data (needs to squeeze time then re-expand array)\n",
    "    ptemp_array = ds['ptemp'].where(ds['ptemp'] != spval).squeeze(dim='time').values\n",
    "    ptemp_remapped = conserve.vertical_remap_z2z(ptemp_array, remapping)\n",
    "    ptemp_remapped = np.expand_dims(ptemp_remapped, axis=0)\n",
    "    \n",
    "    salt_array = ds['salt'].where(ds['salt'] != spval).squeeze(dim='time').values\n",
    "    salt_remapped = conserve.vertical_remap_z2z(salt_array, remapping)\n",
    "    salt_remapped = np.expand_dims(salt_remapped, axis=0)\n",
    "    \n",
    "    ds_remapped = xr.Dataset()\n",
    "    for var in ['time', 'lon', 'lat', 'lon_bnds', 'lat_bnds']:\n",
    "        ds_remapped[var] = ds[var]\n",
    "        \n",
    "    ds_remapped['z_l'] = xr.DataArray(data=depth_tgt, dims=('z_l'))\n",
    "    ds_remapped['z_i'] = xr.DataArray(data=depth_bnds_tgt, dims=('z_i'))\n",
    "    \n",
    "    ds_remapped['ptemp'] = xr.DataArray(data=ptemp_remapped, dims=('time', 'z_l', 'lat', 'lon'))\n",
    "    ds_remapped['salt'] = xr.DataArray(data=salt_remapped, dims=('time', 'z_l', 'lat', 'lon'))\n",
    "    ds_remapped.set_coords([\"time\", \"lon\", \"lat\", \"z_l\"])\n",
    "    ds_remapped.attrs = ds.attrs\n",
    "    return ds_remapped"
   ]
  },
  {
   "cell_type": "code",
   "execution_count": null,
   "metadata": {},
   "outputs": [],
   "source": [
    "def concat_monthly(filepattern, fileout, format='NETCDF3_64BIT'):\n",
    "    \"\"\" take a list of file and write a concatenated file \"\"\"\n",
    "    import glob\n",
    "    ncfiles = glob.glob(filepattern)\n",
    "    dsm = xr.open_mfdataset(ncfiles, decode_times=False)\n",
    "    for var in [\"lon_bnds\", \"lat_bnds\", \"depth_bnds\"]:\n",
    "        if var in dsm.variables:\n",
    "            dsm[var] = dsm[var].isel(time=0)\n",
    "    encoding = dict()\n",
    "    ncvars = list(dsm.variables)\n",
    "    ncvars.remove(\"nbounds\")\n",
    "    for var in ncvars:\n",
    "        encoding[var] = dict(_FillValue=1.0e+20)\n",
    "    nckwargs = dict(format=format, encoding=encoding)\n",
    "    dsm.to_netcdf(fileout, **nckwargs)"
   ]
  },
  {
   "cell_type": "markdown",
   "metadata": {},
   "source": [
    "## Pre-processing of WOA18\n",
    "### Note: this blends monthly with seasonal data\n",
    "See [this](https://www.ncei.noaa.gov/access/world-ocean-atlas-2018/bin/woa18.pl) on how WOA _seasons_ are defined, they range from 13- 17."
   ]
  },
  {
   "cell_type": "markdown",
   "metadata": {},
   "source": [
    "For both the 1-deg and 1/4-deg resolutions, the notebook will:\n",
    "\n",
    "* Compute the potential temperature and write the data on the original grid\n",
    "\n",
    "\n",
    "* Blend the monthly data with seasonal under 1500 meters to obtain full depth arrays\n",
    "\n",
    "\n",
    "* Remap to the 35 z-levels from WOA05 for model-obs comparison, using the target depth array:"
   ]
  },
  {
   "cell_type": "code",
   "execution_count": null,
   "metadata": {},
   "outputs": [],
   "source": [
    "depth_tgt = np.array([2.5000e+00, 1.0000e+01, 2.0000e+01, 3.2500e+01, 5.1250e+01,\n",
    "                      7.5000e+01, 1.0000e+02, 1.2500e+02, 1.5625e+02, 2.0000e+02,\n",
    "                      2.5000e+02, 3.1250e+02, 4.0000e+02, 5.0000e+02, 6.0000e+02,\n",
    "                      7.0000e+02, 8.0000e+02, 9.0000e+02, 1.0000e+03, 1.1000e+03,\n",
    "                      1.2000e+03, 1.3000e+03, 1.4000e+03, 1.5375e+03, 1.7500e+03,\n",
    "                      2.0625e+03, 2.5000e+03, 3.0000e+03, 3.5000e+03, 4.0000e+03,\n",
    "                      4.5000e+03, 5.0000e+03, 5.5000e+03, 6.0000e+03, 6.5000e+03])\n",
    "\n",
    "\n",
    "depth_bnds_tgt = np.array([0.000e+00, 5.000e+00, 1.500e+01, 2.500e+01, 4.000e+01, 6.250e+01,\n",
    "                           8.750e+01, 1.125e+02, 1.375e+02, 1.750e+02, 2.250e+02, 2.750e+02,\n",
    "                           3.500e+02, 4.500e+02, 5.500e+02, 6.500e+02, 7.500e+02, 8.500e+02,\n",
    "                           9.500e+02, 1.050e+03, 1.150e+03, 1.250e+03, 1.350e+03, 1.450e+03,\n",
    "                           1.625e+03, 1.875e+03, 2.250e+03, 2.750e+03, 3.250e+03, 3.750e+03,\n",
    "                           4.250e+03, 4.750e+03, 5.250e+03, 5.750e+03, 6.250e+03, 6.750e+03])"
   ]
  },
  {
   "cell_type": "code",
   "execution_count": null,
   "metadata": {},
   "outputs": [],
   "source": [
    "bottom_fill = False # Fill nan in the water column or not?\n",
    "\n",
    "### 1 degree grid\n",
    "\n",
    "nckwargs = dict(format='NETCDF3_64BIT',\n",
    "                encoding={\"ptemp\": {\"_FillValue\": 1.0e+20},\n",
    "                          \"salt\": {\"_FillValue\": 1.0e+20}})\n",
    "\n",
    "#--- Monthly\n",
    "for period in range(1,12+1):\n",
    "    # original data with potential temperature\n",
    "    ds_monthly = build_woa_TPOT_S_dataset(period=period, resolution=1)\n",
    "    ds_monthly.to_netcdf(f'WOA18_decav_TPOTS_m{str(period).zfill(2)}_01.nc', **nckwargs)\n",
    "    time.sleep(2)\n",
    "    \n",
    "    # seasonal data that goes to _full_ depth\n",
    "    int_seas = int(13+np.floor((period-1)/3))\n",
    "    ds_seas = build_woa_TPOT_S_dataset(period=int_seas, resolution=1)\n",
    "    ds_seas.to_netcdf(f'WOA18_decav_TPOTS_m{str(int_seas).zfill(2)}_01.nc', **nckwargs)\n",
    "    time.sleep(2)\n",
    "    \n",
    "    # Fill column: (bottom) nan with nearest values just-before nan.\n",
    "    if bottom_fill == True:\n",
    "        ds_seas = ds_seas.ffill(dim='depth')\n",
    "    \n",
    "    print(\"\\nBlending month [%i] with season [%i] data.\\n\"%(period, int_seas))\n",
    "    \n",
    "    # blend with seasonal under 1500 meters, i.e., depth[56]\n",
    "    ds_monthly_blend = vertical_blend_seas(ds_seas, ds_monthly)\n",
    "    ds_monthly_blend.to_netcdf(f'WOA18_decav_TPOTS_m{str(period).zfill(2)}_fulldepth_01.nc', **nckwargs)\n",
    "    time.sleep(2)\n",
    "\n",
    "    # vertical remap to 35 levels\n",
    "    ds_monthly_remap = vertical_remap(ds_monthly_blend, depth_tgt, depth_bnds_tgt)\n",
    "    ds_monthly_remap.to_netcdf(f'WOA18_decav_TPOTS_m{str(period).zfill(2)}_35lev_01.nc', **nckwargs)\n",
    "    time.sleep(2)"
   ]
  },
  {
   "cell_type": "code",
   "execution_count": null,
   "metadata": {},
   "outputs": [],
   "source": [
    "## concatenate the files\n",
    "\n",
    "concat_monthly(\"WOA18_decav_TPOTS_m??_01.nc\", \"WOA18_decav_TPOTS_monthly_01.nc\")\n",
    "concat_monthly(\"WOA18_decav_TPOTS_m??_fulldepth_01.nc\", \"WOA18_decav_TPOTS_monthly_fulldepth_01.nc\")\n",
    "concat_monthly(\"WOA18_decav_TPOTS_m??_35lev_01.nc\", \"WOA18_decav_TPOTS_monthly_35lev_01.nc\")"
   ]
  },
  {
   "cell_type": "code",
   "execution_count": null,
   "metadata": {},
   "outputs": [],
   "source": [
    "bottom_fill = False # Fill nan in the water column or not?\n",
    "\n",
    "### 0.25 degree grid\n",
    "\n",
    "nckwargs = dict(format='NETCDF3_64BIT',\n",
    "                encoding={\"ptemp\": {\"_FillValue\": 1.0e+20},\n",
    "                          \"salt\": {\"_FillValue\": 1.0e+20}})\n",
    "\n",
    "#--- Monthly\n",
    "for period in range(1,12+1):\n",
    "    # original data with potential temperature\n",
    "    ds_monthly = build_woa_TPOT_S_dataset(period=period, resolution=4,\n",
    "                                          url_temp=url_temp_025deg,\n",
    "                                          url_salt=url_salt_025deg)\n",
    "    ds_monthly.to_netcdf(f'WOA18_decav_TPOTS_m{str(period).zfill(2)}_025.nc', **nckwargs)\n",
    "    time.sleep(2)\n",
    "    \n",
    "    # seasonal data that goes to _full_ depth\n",
    "    int_seas = int(13+np.floor((period-1)/3))\n",
    "    ds_seas = build_woa_TPOT_S_dataset(period=int_seas, resolution=4,\n",
    "                                       url_temp=url_temp_025deg,\n",
    "                                       url_salt=url_salt_025deg)\n",
    "    #ds_seas.to_netcdf(f'WOA18_decav_TPOTS_m{str(int_seas).zfill(2)}_025.nc', **nckwargs)\n",
    "    time.sleep(2)\n",
    "    \n",
    "    # Fill column: (bottom) nan with nearest values just-before nan.\n",
    "    if bottom_fill == True:\n",
    "        ds_seas = ds_seas.ffill(dim='depth')\n",
    "        \n",
    "    print(\"\\nBlending month [%i] with season [%i] data.\\n\"%(period, int_seas))\n",
    "    \n",
    "    # blend with seasonal under 1500 meters, i.e., depth[56]\n",
    "    ds_monthly_blend = vertical_blend_seas(ds_seas, ds_monthly)\n",
    "    ds_monthly_blend.to_netcdf(f'WOA18_decav_TPOTS_m{str(period).zfill(2)}_fulldepth_025.nc')\n",
    "    time.sleep(2)\n",
    "    \n",
    "    # vertical remap to 35 levels\n",
    "    ds_monthly_remap = vertical_remap(ds_monthly_blend, depth_tgt, depth_bnds_tgt)\n",
    "    ds_monthly_remap.to_netcdf(f'WOA18_decav_TPOTS_m{str(period).zfill(2)}_35lev_025.nc', **nckwargs)\n",
    "    time.sleep(2)"
   ]
  },
  {
   "cell_type": "code",
   "execution_count": null,
   "metadata": {},
   "outputs": [],
   "source": [
    "## concatenate the files\n",
    "\n",
    "concat_monthly(\"WOA18_decav_TPOTS_m??_025.nc\", \"WOA18_decav_TPOTS_monthly_025.nc\", format='NETCDF4')\n",
    "concat_monthly(\"WOA18_decav_TPOTS_m??_fulldepth_025.nc\", \"WOA18_decav_TPOTS_monthly_fulldepth_025.nc\", format='NETCDF4')\n",
    "concat_monthly(\"WOA18_decav_TPOTS_m??_35lev_025.nc\", \"WOA18_decav_TPOTS_monthly_35lev_025.nc\", format='NETCDF4')"
   ]
  },
  {
   "cell_type": "markdown",
   "metadata": {},
   "source": [
    "### ------ The End ------"
   ]
  }
 ],
 "metadata": {
  "kernelspec": {
   "display_name": "Python 3 (ipykernel)",
   "language": "python",
   "name": "python3"
  },
  "language_info": {
   "codemirror_mode": {
    "name": "ipython",
    "version": 3
   },
   "file_extension": ".py",
   "mimetype": "text/x-python",
   "name": "python",
   "nbconvert_exporter": "python",
   "pygments_lexer": "ipython3",
   "version": "3.10.9"
  }
 },
 "nbformat": 4,
 "nbformat_minor": 4
}
